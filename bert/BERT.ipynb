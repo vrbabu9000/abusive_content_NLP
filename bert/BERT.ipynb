{
 "cells": [
  {
   "cell_type": "markdown",
   "metadata": {
    "id": "OFOTiqrtNvyy"
   },
   "source": [
    "# Install Transformers Library"
   ]
  },
  {
   "cell_type": "code",
   "execution_count": 1,
   "metadata": {
    "executionInfo": {
     "elapsed": 6028,
     "status": "ok",
     "timestamp": 1627006603742,
     "user": {
      "displayName": "V R Babu",
      "photoUrl": "https://lh3.googleusercontent.com/a-/AOh14GiwpQX5Fne1Y4zJf4mCjuaOTpjFBcp1iNmrgZ4M=s64",
      "userId": "01442414460590452599"
     },
     "user_tz": -330
    },
    "id": "x4giRzM7NtHJ"
   },
   "outputs": [],
   "source": [
    "import numpy as np\n",
    "import pandas as pd\n",
    "import torch\n",
    "import torch.nn as nn\n",
    "from sklearn.model_selection import train_test_split\n",
    "from sklearn.metrics import classification_report\n",
    "import transformers\n",
    "from transformers import AutoModel, BertTokenizerFast\n",
    "\n",
    "# specify GPU\n",
    "device = torch.device(\"cuda\")"
   ]
  },
  {
   "cell_type": "markdown",
   "metadata": {
    "id": "kKd-Tj3hOMsZ"
   },
   "source": [
    "# Load Dataset"
   ]
  },
  {
   "cell_type": "code",
   "execution_count": 2,
   "metadata": {
    "colab": {
     "base_uri": "https://localhost:8080/",
     "height": 195
    },
    "executionInfo": {
     "elapsed": 682,
     "status": "ok",
     "timestamp": 1627006767009,
     "user": {
      "displayName": "V R Babu",
      "photoUrl": "https://lh3.googleusercontent.com/a-/AOh14GiwpQX5Fne1Y4zJf4mCjuaOTpjFBcp1iNmrgZ4M=s64",
      "userId": "01442414460590452599"
     },
     "user_tz": -330
    },
    "id": "cwJrQFQgN_BE",
    "outputId": "77101b53-e29b-4463-a6e2-4d348099b2a8"
   },
   "outputs": [
    {
     "data": {
      "text/html": [
       "<div>\n",
       "<style scoped>\n",
       "    .dataframe tbody tr th:only-of-type {\n",
       "        vertical-align: middle;\n",
       "    }\n",
       "\n",
       "    .dataframe tbody tr th {\n",
       "        vertical-align: top;\n",
       "    }\n",
       "\n",
       "    .dataframe thead th {\n",
       "        text-align: right;\n",
       "    }\n",
       "</style>\n",
       "<table border=\"1\" class=\"dataframe\">\n",
       "  <thead>\n",
       "    <tr style=\"text-align: right;\">\n",
       "      <th></th>\n",
       "      <th>label</th>\n",
       "      <th>text</th>\n",
       "    </tr>\n",
       "  </thead>\n",
       "  <tbody>\n",
       "    <tr>\n",
       "      <th>0</th>\n",
       "      <td>0</td>\n",
       "      <td>outage ardmore center facility outage azurix o...</td>\n",
       "    </tr>\n",
       "    <tr>\n",
       "      <th>1</th>\n",
       "      <td>0</td>\n",
       "      <td>paul give head legal effort entail pretty open...</td>\n",
       "    </tr>\n",
       "    <tr>\n",
       "      <th>2</th>\n",
       "      <td>0</td>\n",
       "      <td>congratulation deserved hope lunch kristin</td>\n",
       "    </tr>\n",
       "    <tr>\n",
       "      <th>3</th>\n",
       "      <td>1</td>\n",
       "      <td>mad nigga bitches texte sum wit</td>\n",
       "    </tr>\n",
       "    <tr>\n",
       "      <th>4</th>\n",
       "      <td>1</td>\n",
       "      <td>sweet kissesxx straight af math bitch how s de...</td>\n",
       "    </tr>\n",
       "  </tbody>\n",
       "</table>\n",
       "</div>"
      ],
      "text/plain": [
       "   label                                               text\n",
       "0      0  outage ardmore center facility outage azurix o...\n",
       "1      0  paul give head legal effort entail pretty open...\n",
       "2      0         congratulation deserved hope lunch kristin\n",
       "3      1                    mad nigga bitches texte sum wit\n",
       "4      1  sweet kissesxx straight af math bitch how s de..."
      ]
     },
     "execution_count": 2,
     "metadata": {},
     "output_type": "execute_result"
    }
   ],
   "source": [
    "df = pd.read_csv(\"..\\\\dataset\\\\Balanced_dataset.csv\")\n",
    "df.drop('Unnamed: 0',axis=1,inplace=True)\n",
    "df.rename({'target':'label','lemmatized_content':'text'},axis=1,inplace=True)\n",
    "df.head()"
   ]
  },
  {
   "cell_type": "code",
   "execution_count": 3,
   "metadata": {
    "executionInfo": {
     "elapsed": 516,
     "status": "ok",
     "timestamp": 1627006771754,
     "user": {
      "displayName": "V R Babu",
      "photoUrl": "https://lh3.googleusercontent.com/a-/AOh14GiwpQX5Fne1Y4zJf4mCjuaOTpjFBcp1iNmrgZ4M=s64",
      "userId": "01442414460590452599"
     },
     "user_tz": -330
    },
    "id": "LQv7kloDaLd_"
   },
   "outputs": [],
   "source": [
    "df = df.dropna()"
   ]
  },
  {
   "cell_type": "code",
   "execution_count": 4,
   "metadata": {
    "colab": {
     "base_uri": "https://localhost:8080/"
    },
    "executionInfo": {
     "elapsed": 9,
     "status": "ok",
     "timestamp": 1627006772275,
     "user": {
      "displayName": "V R Babu",
      "photoUrl": "https://lh3.googleusercontent.com/a-/AOh14GiwpQX5Fne1Y4zJf4mCjuaOTpjFBcp1iNmrgZ4M=s64",
      "userId": "01442414460590452599"
     },
     "user_tz": -330
    },
    "id": "x_rdT59vaOmI",
    "outputId": "84604b74-d3f3-4e6e-b18a-ee1d5b9cc737"
   },
   "outputs": [
    {
     "name": "stdout",
     "output_type": "stream",
     "text": [
      "<class 'pandas.core.frame.DataFrame'>\n",
      "Int64Index: 84630 entries, 0 to 84920\n",
      "Data columns (total 2 columns):\n",
      " #   Column  Non-Null Count  Dtype \n",
      "---  ------  --------------  ----- \n",
      " 0   label   84630 non-null  int64 \n",
      " 1   text    84630 non-null  object\n",
      "dtypes: int64(1), object(1)\n",
      "memory usage: 1.9+ MB\n"
     ]
    }
   ],
   "source": [
    "df.info()"
   ]
  },
  {
   "cell_type": "code",
   "execution_count": 5,
   "metadata": {
    "colab": {
     "base_uri": "https://localhost:8080/"
    },
    "executionInfo": {
     "elapsed": 8,
     "status": "ok",
     "timestamp": 1627006773189,
     "user": {
      "displayName": "V R Babu",
      "photoUrl": "https://lh3.googleusercontent.com/a-/AOh14GiwpQX5Fne1Y4zJf4mCjuaOTpjFBcp1iNmrgZ4M=s64",
      "userId": "01442414460590452599"
     },
     "user_tz": -330
    },
    "id": "fzPPOrVQWiW5",
    "outputId": "8c04131b-a322-4171-99b5-6c0aa3fe32ba"
   },
   "outputs": [
    {
     "data": {
      "text/plain": [
       "(84630, 2)"
      ]
     },
     "execution_count": 5,
     "metadata": {},
     "output_type": "execute_result"
    }
   ],
   "source": [
    "df.shape"
   ]
  },
  {
   "cell_type": "code",
   "execution_count": 6,
   "metadata": {
    "colab": {
     "base_uri": "https://localhost:8080/"
    },
    "executionInfo": {
     "elapsed": 5,
     "status": "ok",
     "timestamp": 1627006774727,
     "user": {
      "displayName": "V R Babu",
      "photoUrl": "https://lh3.googleusercontent.com/a-/AOh14GiwpQX5Fne1Y4zJf4mCjuaOTpjFBcp1iNmrgZ4M=s64",
      "userId": "01442414460590452599"
     },
     "user_tz": -330
    },
    "id": "676DPU1BOPdp",
    "outputId": "10b86cae-5bdf-41b3-bf92-55883c0285cb"
   },
   "outputs": [
    {
     "data": {
      "text/plain": [
       "0    0.524459\n",
       "1    0.475541\n",
       "Name: label, dtype: float64"
      ]
     },
     "execution_count": 6,
     "metadata": {},
     "output_type": "execute_result"
    }
   ],
   "source": [
    "# check class distribution\n",
    "df['label'].value_counts(normalize = True)"
   ]
  },
  {
   "cell_type": "markdown",
   "metadata": {
    "id": "MKfWnApvOoE7"
   },
   "source": [
    "# Split train dataset into train, validation and test sets"
   ]
  },
  {
   "cell_type": "code",
   "execution_count": 7,
   "metadata": {
    "executionInfo": {
     "elapsed": 432,
     "status": "ok",
     "timestamp": 1627006784991,
     "user": {
      "displayName": "V R Babu",
      "photoUrl": "https://lh3.googleusercontent.com/a-/AOh14GiwpQX5Fne1Y4zJf4mCjuaOTpjFBcp1iNmrgZ4M=s64",
      "userId": "01442414460590452599"
     },
     "user_tz": -330
    },
    "id": "mfhSPF5jOWb7"
   },
   "outputs": [],
   "source": [
    "train_text, temp_text, train_labels, temp_labels = train_test_split(df['text'], df['label'], \n",
    "                                                                    random_state=2018, \n",
    "                                                                    test_size=0.3, \n",
    "                                                                    stratify=df['label'])\n",
    "\n",
    "# we will use temp_text and temp_labels to create validation and test set\n",
    "val_text, test_text, val_labels, test_labels = train_test_split(temp_text, temp_labels, \n",
    "                                                                random_state=2018, \n",
    "                                                                test_size=0.5, \n",
    "                                                                stratify=temp_labels)"
   ]
  },
  {
   "cell_type": "code",
   "execution_count": null,
   "metadata": {},
   "outputs": [],
   "source": []
  },
  {
   "cell_type": "markdown",
   "metadata": {
    "id": "n7hsdLoCO7uB"
   },
   "source": [
    "# Import BERT Model and BERT Tokenizer"
   ]
  },
  {
   "cell_type": "code",
   "execution_count": 8,
   "metadata": {
    "colab": {
     "base_uri": "https://localhost:8080/",
     "height": 338,
     "referenced_widgets": [
      "e0edb28538e04020879a3c7a89d441a1",
      "90af3b41149448d79ab9cd6f8b8410bd",
      "e1c5f4a08bca4f6291cd5bf34e1fdf56",
      "3f5a0cb1f92e49f7b00258e9fecdec71",
      "a7820ec2499145edaa6498bf5850a6f0",
      "b0b6451839cd4579902a678f39b60a6b",
      "360b9da57ebb4d2b905bd5a4892315ff",
      "d9b09cac92db42ceb63c5802945cddb4",
      "2d38e0c2e3f643f1a7b04ad1cd57be4f",
      "28a33d98a7e1455a85521cd8f8ca40a5",
      "b804db7ce25d42998a4086ca65d4000d",
      "b2bb29c878bc44128cee67fa7f040d55",
      "3353de90015941d5acd9ba13c2565adb",
      "050550acd31a4e67a296571b95502ff3",
      "ce682913300943e4b9bc34f464edfb7a",
      "02c146950e514af7bd281d56e4bcdb26",
      "b5d807f0e9194abdb1b5ffbb9fd2f2ee",
      "653560b599b3449b8148b0edba507c67",
      "ef9adf7db23f4b29974a7ced875e4c7f",
      "402f99081b5f427c8ec69618d5c93675",
      "53164151c8484686b8e0a0140c8afd9b",
      "bf80de127801412982ca9e3e00568037",
      "98282eab4fe3480cb3af2d3ed7c7d18d",
      "2daa511a3f2c4c81bedb2c2177a590fa",
      "215d3f30cc5d4823a54f42843b545c70",
      "639a6b4902974be0ac9377f3a219d20e",
      "7dce4e0db3a74dba89ecab56ed5a7964",
      "368f2dda1d694dea80e14150139da856",
      "b4709f26f060421c954a6d1ebe23209d",
      "8b7a781124f14089970cd5435526e072",
      "96f19cf022a24c1980d3c2b7af2651d8",
      "ececab32a068407e8253d775d9856fe5",
      "c1e8fc34e99740fba779f263e2db1d57",
      "97fef5f53cd34b988e2348e5adff2cb7",
      "40f09a74f7334f669883d8f17428197b",
      "99004b4ce70e407c98d1a8565e0a6dd0",
      "73f69a79ddbc49218701d0c433ad4a58",
      "c02cb5a1042d448189df58a1983c50e9",
      "5219754a36cd442bb7d4dd95d8ded72e",
      "ab8eab925b9f47be9d8d2a58e51a19c8"
     ]
    },
    "executionInfo": {
     "elapsed": 13234,
     "status": "ok",
     "timestamp": 1627006800446,
     "user": {
      "displayName": "V R Babu",
      "photoUrl": "https://lh3.googleusercontent.com/a-/AOh14GiwpQX5Fne1Y4zJf4mCjuaOTpjFBcp1iNmrgZ4M=s64",
      "userId": "01442414460590452599"
     },
     "user_tz": -330
    },
    "id": "S1kY3gZjO2RE",
    "outputId": "77a81eb2-a11f-4c6f-dbf0-2d4ef265ef23"
   },
   "outputs": [
    {
     "name": "stderr",
     "output_type": "stream",
     "text": [
      "All TF 2.0 model weights were used when initializing BertModel.\n",
      "\n",
      "All the weights of BertModel were initialized from the TF 2.0 model.\n",
      "If your task is similar to the task the model of the checkpoint was trained on, you can already use BertModel for predictions without further training.\n"
     ]
    }
   ],
   "source": [
    "# import BERT-base pretrained model\n",
    "bert = AutoModel.from_pretrained('bert-base-uncased',from_tf=True)\n",
    "\n",
    "# Load the BERT tokenizer\n",
    "tokenizer = BertTokenizerFast.from_pretrained('bert-base-uncased')"
   ]
  },
  {
   "cell_type": "code",
   "execution_count": 9,
   "metadata": {
    "executionInfo": {
     "elapsed": 516,
     "status": "ok",
     "timestamp": 1627006804524,
     "user": {
      "displayName": "V R Babu",
      "photoUrl": "https://lh3.googleusercontent.com/a-/AOh14GiwpQX5Fne1Y4zJf4mCjuaOTpjFBcp1iNmrgZ4M=s64",
      "userId": "01442414460590452599"
     },
     "user_tz": -330
    },
    "id": "_zOKeOMeO-DT"
   },
   "outputs": [],
   "source": [
    "# sample data\n",
    "text = [\"this is a bert model tutorial\", \"we will fine-tune a bert model\"]\n",
    "\n",
    "# encode text\n",
    "sent_id = tokenizer.batch_encode_plus(text, padding=True, return_token_type_ids=False)"
   ]
  },
  {
   "cell_type": "code",
   "execution_count": 10,
   "metadata": {
    "colab": {
     "base_uri": "https://localhost:8080/"
    },
    "executionInfo": {
     "elapsed": 10,
     "status": "ok",
     "timestamp": 1627006808424,
     "user": {
      "displayName": "V R Babu",
      "photoUrl": "https://lh3.googleusercontent.com/a-/AOh14GiwpQX5Fne1Y4zJf4mCjuaOTpjFBcp1iNmrgZ4M=s64",
      "userId": "01442414460590452599"
     },
     "user_tz": -330
    },
    "id": "oAH73n39PHLw",
    "outputId": "430a65e7-fe4c-431a-b76b-6f1bd4a1d1f0"
   },
   "outputs": [
    {
     "name": "stdout",
     "output_type": "stream",
     "text": [
      "{'input_ids': [[101, 2023, 2003, 1037, 14324, 2944, 14924, 4818, 102, 0], [101, 2057, 2097, 2986, 1011, 8694, 1037, 14324, 2944, 102]], 'attention_mask': [[1, 1, 1, 1, 1, 1, 1, 1, 1, 0], [1, 1, 1, 1, 1, 1, 1, 1, 1, 1]]}\n"
     ]
    }
   ],
   "source": [
    "# output\n",
    "print(sent_id)"
   ]
  },
  {
   "cell_type": "markdown",
   "metadata": {
    "id": "8wIYaWI_Prg8"
   },
   "source": [
    "# Tokenization"
   ]
  },
  {
   "cell_type": "code",
   "execution_count": 11,
   "metadata": {
    "colab": {
     "base_uri": "https://localhost:8080/",
     "height": 285
    },
    "executionInfo": {
     "elapsed": 16,
     "status": "ok",
     "timestamp": 1627006811197,
     "user": {
      "displayName": "V R Babu",
      "photoUrl": "https://lh3.googleusercontent.com/a-/AOh14GiwpQX5Fne1Y4zJf4mCjuaOTpjFBcp1iNmrgZ4M=s64",
      "userId": "01442414460590452599"
     },
     "user_tz": -330
    },
    "id": "yKwbpeN_PMiu",
    "outputId": "6da46c43-bbc5-4fdd-ed12-47563ebcc046"
   },
   "outputs": [
    {
     "data": {
      "text/plain": [
       "<AxesSubplot:>"
      ]
     },
     "execution_count": 11,
     "metadata": {},
     "output_type": "execute_result"
    },
    {
     "data": {
      "image/png": "[encoded data removed]",
      "text/plain": [
       "<Figure size 432x288 with 1 Axes>"
      ]
     },
     "metadata": {
      "needs_background": "light"
     },
     "output_type": "display_data"
    }
   ],
   "source": [
    "# get length of all the messages in the train set\n",
    "seq_len = [len(i.split()) for i in train_text]\n",
    "\n",
    "pd.Series(seq_len).hist(bins = 30)"
   ]
  },
  {
   "cell_type": "code",
   "execution_count": 12,
   "metadata": {
    "executionInfo": {
     "elapsed": 415,
     "status": "ok",
     "timestamp": 1627006836171,
     "user": {
      "displayName": "V R Babu",
      "photoUrl": "https://lh3.googleusercontent.com/a-/AOh14GiwpQX5Fne1Y4zJf4mCjuaOTpjFBcp1iNmrgZ4M=s64",
      "userId": "01442414460590452599"
     },
     "user_tz": -330
    },
    "id": "OXcswEIRPvGe"
   },
   "outputs": [],
   "source": [
    "max_seq_len = 25"
   ]
  },
  {
   "cell_type": "code",
   "execution_count": 13,
   "metadata": {
    "colab": {
     "base_uri": "https://localhost:8080/"
    },
    "executionInfo": {
     "elapsed": 21678,
     "status": "ok",
     "timestamp": 1627006858315,
     "user": {
      "displayName": "V R Babu",
      "photoUrl": "https://lh3.googleusercontent.com/a-/AOh14GiwpQX5Fne1Y4zJf4mCjuaOTpjFBcp1iNmrgZ4M=s64",
      "userId": "01442414460590452599"
     },
     "user_tz": -330
    },
    "id": "tk5S7DWaP2t6",
    "outputId": "8313993e-095e-4092-9899-dedec0551083"
   },
   "outputs": [
    {
     "name": "stderr",
     "output_type": "stream",
     "text": [
      "C:\\Users\\Vignesh R Babu\\AppData\\Roaming\\Python\\Python38\\site-packages\\transformers\\tokenization_utils_base.py:2126: FutureWarning: The `pad_to_max_length` argument is deprecated and will be removed in a future version, use `padding=True` or `padding='longest'` to pad to the longest sequence in the batch, or use `padding='max_length'` to pad to a max length. In this case, you can give a specific length with `max_length` (e.g. `max_length=45`) or leave max_length to None to pad to the maximal input size of the model (e.g. 512 for Bert).\n",
      "  warnings.warn(\n"
     ]
    }
   ],
   "source": [
    "# tokenize and encode sequences in the training set\n",
    "tokens_train = tokenizer.batch_encode_plus(\n",
    "    train_text.tolist(),\n",
    "    max_length = max_seq_len,\n",
    "    pad_to_max_length=True,\n",
    "    truncation=True,\n",
    "    return_token_type_ids=False\n",
    ")\n",
    "\n",
    "# tokenize and encode sequences in the validation set\n",
    "tokens_val = tokenizer.batch_encode_plus(\n",
    "    val_text.tolist(),\n",
    "    max_length = max_seq_len,\n",
    "    pad_to_max_length=True,\n",
    "    truncation=True,\n",
    "    return_token_type_ids=False\n",
    ")\n",
    "\n",
    "# tokenize and encode sequences in the test set\n",
    "tokens_test = tokenizer.batch_encode_plus(\n",
    "    test_text.tolist(),\n",
    "    max_length = max_seq_len,\n",
    "    pad_to_max_length=True,\n",
    "    truncation=True,\n",
    "    return_token_type_ids=False\n",
    ")"
   ]
  },
  {
   "cell_type": "markdown",
   "metadata": {
    "id": "Wsm8bkRZQTw9"
   },
   "source": [
    "# Convert Integer Sequences to Tensors"
   ]
  },
  {
   "cell_type": "code",
   "execution_count": 14,
   "metadata": {
    "executionInfo": {
     "elapsed": 40,
     "status": "ok",
     "timestamp": 1627006858316,
     "user": {
      "displayName": "V R Babu",
      "photoUrl": "https://lh3.googleusercontent.com/a-/AOh14GiwpQX5Fne1Y4zJf4mCjuaOTpjFBcp1iNmrgZ4M=s64",
      "userId": "01442414460590452599"
     },
     "user_tz": -330
    },
    "id": "QR-lXwmzQPd6"
   },
   "outputs": [],
   "source": [
    "# for train set\n",
    "train_seq = torch.tensor(tokens_train['input_ids'])\n",
    "train_mask = torch.tensor(tokens_train['attention_mask'])\n",
    "train_y = torch.tensor(train_labels.tolist())\n",
    "\n",
    "# for validation set\n",
    "val_seq = torch.tensor(tokens_val['input_ids'])\n",
    "val_mask = torch.tensor(tokens_val['attention_mask'])\n",
    "val_y = torch.tensor(val_labels.tolist())\n",
    "\n",
    "# for test set\n",
    "test_seq = torch.tensor(tokens_test['input_ids'])\n",
    "test_mask = torch.tensor(tokens_test['attention_mask'])\n",
    "test_y = torch.tensor(test_labels.tolist())"
   ]
  },
  {
   "cell_type": "markdown",
   "metadata": {
    "id": "Ov1cOBlcRLuk"
   },
   "source": [
    "# Create DataLoaders"
   ]
  },
  {
   "cell_type": "code",
   "execution_count": 15,
   "metadata": {
    "executionInfo": {
     "elapsed": 39,
     "status": "ok",
     "timestamp": 1627006858318,
     "user": {
      "displayName": "V R Babu",
      "photoUrl": "https://lh3.googleusercontent.com/a-/AOh14GiwpQX5Fne1Y4zJf4mCjuaOTpjFBcp1iNmrgZ4M=s64",
      "userId": "01442414460590452599"
     },
     "user_tz": -330
    },
    "id": "qUy9JKFYQYLp"
   },
   "outputs": [],
   "source": [
    "from torch.utils.data import TensorDataset, DataLoader, RandomSampler, SequentialSampler\n",
    "\n",
    "#define a batch size\n",
    "batch_size = 32\n",
    "\n",
    "# wrap tensors\n",
    "train_data = TensorDataset(train_seq, train_mask, train_y)\n",
    "\n",
    "# sampler for sampling the data during training\n",
    "train_sampler = RandomSampler(train_data)\n",
    "\n",
    "# dataLoader for train set\n",
    "train_dataloader = DataLoader(train_data, sampler=train_sampler, batch_size=batch_size)\n",
    "\n",
    "# wrap tensors\n",
    "val_data = TensorDataset(val_seq, val_mask, val_y)\n",
    "\n",
    "# sampler for sampling the data during training\n",
    "val_sampler = SequentialSampler(val_data)\n",
    "\n",
    "# dataLoader for validation set\n",
    "val_dataloader = DataLoader(val_data, sampler = val_sampler, batch_size=batch_size)"
   ]
  },
  {
   "cell_type": "markdown",
   "metadata": {
    "id": "K2HZc5ZYRV28"
   },
   "source": [
    "# Freeze BERT Parameters"
   ]
  },
  {
   "cell_type": "code",
   "execution_count": 16,
   "metadata": {
    "executionInfo": {
     "elapsed": 38,
     "status": "ok",
     "timestamp": 1627006858319,
     "user": {
      "displayName": "V R Babu",
      "photoUrl": "https://lh3.googleusercontent.com/a-/AOh14GiwpQX5Fne1Y4zJf4mCjuaOTpjFBcp1iNmrgZ4M=s64",
      "userId": "01442414460590452599"
     },
     "user_tz": -330
    },
    "id": "wHZ0MC00RQA_"
   },
   "outputs": [],
   "source": [
    "# freeze all the parameters\n",
    "for param in bert.parameters():\n",
    "    param.requires_grad = False"
   ]
  },
  {
   "cell_type": "markdown",
   "metadata": {
    "id": "s7ahGBUWRi3X"
   },
   "source": [
    "# Define Model Architecture"
   ]
  },
  {
   "cell_type": "code",
   "execution_count": 17,
   "metadata": {
    "executionInfo": {
     "elapsed": 37,
     "status": "ok",
     "timestamp": 1627006858320,
     "user": {
      "displayName": "V R Babu",
      "photoUrl": "https://lh3.googleusercontent.com/a-/AOh14GiwpQX5Fne1Y4zJf4mCjuaOTpjFBcp1iNmrgZ4M=s64",
      "userId": "01442414460590452599"
     },
     "user_tz": -330
    },
    "id": "b3iEtGyYRd0A"
   },
   "outputs": [],
   "source": [
    "class BERT_Arch(nn.Module):\n",
    "\n",
    "    def __init__(self, bert):\n",
    "      \n",
    "      super(BERT_Arch, self).__init__()\n",
    "\n",
    "      self.bert = bert \n",
    "      \n",
    "      # dropout layer\n",
    "      self.dropout = nn.Dropout(0.1)\n",
    "      \n",
    "      # relu activation function\n",
    "      self.relu =  nn.ReLU()\n",
    "\n",
    "      # dense layer 1\n",
    "      self.fc1 = nn.Linear(768,512)\n",
    "      \n",
    "      # dense layer 2 (Output layer)\n",
    "      self.fc2 = nn.Linear(512,2)\n",
    "\n",
    "      #softmax activation function\n",
    "      self.softmax = nn.LogSoftmax(dim=1)\n",
    "\n",
    "    #define the forward pass\n",
    "    def forward(self, sent_id, mask):\n",
    "\n",
    "      #pass the inputs to the model  \n",
    "      _, cls_hs = self.bert(sent_id, attention_mask=mask,return_dict=False)\n",
    "      \n",
    "      x = self.fc1(cls_hs)\n",
    "\n",
    "      x = self.relu(x)\n",
    "\n",
    "      x = self.dropout(x)\n",
    "\n",
    "      # output layer\n",
    "      x = self.fc2(x)\n",
    "      \n",
    "      # apply softmax activation\n",
    "      x = self.softmax(x)\n",
    "\n",
    "      return x"
   ]
  },
  {
   "cell_type": "code",
   "execution_count": 18,
   "metadata": {
    "executionInfo": {
     "elapsed": 12404,
     "status": "ok",
     "timestamp": 1627006870690,
     "user": {
      "displayName": "V R Babu",
      "photoUrl": "https://lh3.googleusercontent.com/a-/AOh14GiwpQX5Fne1Y4zJf4mCjuaOTpjFBcp1iNmrgZ4M=s64",
      "userId": "01442414460590452599"
     },
     "user_tz": -330
    },
    "id": "cBAJJVuJRliv"
   },
   "outputs": [],
   "source": [
    "# pass the pre-trained BERT to our define architecture\n",
    "model = BERT_Arch(bert)\n",
    "\n",
    "# push the model to GPU\n",
    "model = model.to(device)"
   ]
  },
  {
   "cell_type": "code",
   "execution_count": 19,
   "metadata": {
    "executionInfo": {
     "elapsed": 24,
     "status": "ok",
     "timestamp": 1627006870693,
     "user": {
      "displayName": "V R Babu",
      "photoUrl": "https://lh3.googleusercontent.com/a-/AOh14GiwpQX5Fne1Y4zJf4mCjuaOTpjFBcp1iNmrgZ4M=s64",
      "userId": "01442414460590452599"
     },
     "user_tz": -330
    },
    "id": "taXS0IilRn9J"
   },
   "outputs": [],
   "source": [
    "# optimizer from hugging face transformers\n",
    "from transformers import AdamW\n",
    "\n",
    "# define the optimizer\n",
    "optimizer = AdamW(model.parameters(), lr = 1e-3)"
   ]
  },
  {
   "cell_type": "markdown",
   "metadata": {
    "id": "j9CDpoMQR_rK"
   },
   "source": [
    "# Find Class Weights"
   ]
  },
  {
   "cell_type": "code",
   "execution_count": 20,
   "metadata": {
    "colab": {
     "base_uri": "https://localhost:8080/"
    },
    "executionInfo": {
     "elapsed": 22,
     "status": "ok",
     "timestamp": 1627006870694,
     "user": {
      "displayName": "V R Babu",
      "photoUrl": "https://lh3.googleusercontent.com/a-/AOh14GiwpQX5Fne1Y4zJf4mCjuaOTpjFBcp1iNmrgZ4M=s64",
      "userId": "01442414460590452599"
     },
     "user_tz": -330
    },
    "id": "izY5xH5eR7Ur",
    "outputId": "e7be3856-2f3d-43ab-d698-5308765a76f4"
   },
   "outputs": [
    {
     "name": "stdout",
     "output_type": "stream",
     "text": [
      "[0.95337797 1.0514163 ]\n"
     ]
    },
    {
     "name": "stderr",
     "output_type": "stream",
     "text": [
      "C:\\ProgramData\\Anaconda3\\lib\\site-packages\\sklearn\\utils\\validation.py:67: FutureWarning: Pass classes=[0 1], y=3803     0\n",
      "40524    1\n",
      "10308    1\n",
      "39488    1\n",
      "1962     0\n",
      "        ..\n",
      "15747    0\n",
      "9570     0\n",
      "15353    1\n",
      "61472    0\n",
      "55027    1\n",
      "Name: label, Length: 59241, dtype: int64 as keyword args. From version 0.25 passing these as positional arguments will result in an error\n",
      "  warnings.warn(\"Pass {} as keyword args. From version 0.25 \"\n"
     ]
    }
   ],
   "source": [
    "from sklearn.utils.class_weight import compute_class_weight\n",
    "\n",
    "#compute the class weights\n",
    "class_wts = compute_class_weight('balanced', np.unique(train_labels), train_labels)\n",
    "\n",
    "print(class_wts)"
   ]
  },
  {
   "cell_type": "code",
   "execution_count": 21,
   "metadata": {
    "executionInfo": {
     "elapsed": 19,
     "status": "ok",
     "timestamp": 1627006870695,
     "user": {
      "displayName": "V R Babu",
      "photoUrl": "https://lh3.googleusercontent.com/a-/AOh14GiwpQX5Fne1Y4zJf4mCjuaOTpjFBcp1iNmrgZ4M=s64",
      "userId": "01442414460590452599"
     },
     "user_tz": -330
    },
    "id": "r1WvfY2vSGKi"
   },
   "outputs": [],
   "source": [
    "# convert class weights to tensor\n",
    "weights= torch.tensor(class_wts,dtype=torch.float)\n",
    "weights = weights.to(device)\n",
    "\n",
    "# loss function\n",
    "cross_entropy  = nn.NLLLoss(weight=weights) \n",
    "\n",
    "# number of training epochs\n",
    "epochs = 3"
   ]
  },
  {
   "cell_type": "markdown",
   "metadata": {
    "id": "My4CA0qaShLq"
   },
   "source": [
    "# Fine-Tune BERT"
   ]
  },
  {
   "cell_type": "code",
   "execution_count": 22,
   "metadata": {
    "executionInfo": {
     "elapsed": 7,
     "status": "ok",
     "timestamp": 1627006876252,
     "user": {
      "displayName": "V R Babu",
      "photoUrl": "https://lh3.googleusercontent.com/a-/AOh14GiwpQX5Fne1Y4zJf4mCjuaOTpjFBcp1iNmrgZ4M=s64",
      "userId": "01442414460590452599"
     },
     "user_tz": -330
    },
    "id": "rskLk8R_SahS"
   },
   "outputs": [],
   "source": [
    "# function to train the model\n",
    "def train():\n",
    "  \n",
    "  model.train()\n",
    "\n",
    "  total_loss, total_accuracy = 0, 0\n",
    "  \n",
    "  # empty list to save model predictions\n",
    "  total_preds=[]\n",
    "  \n",
    "  # iterate over batches\n",
    "  for step,batch in enumerate(train_dataloader):\n",
    "    \n",
    "    # progress update after every 50 batches.\n",
    "    if step % 50 == 0 and not step == 0:\n",
    "      print('  Batch {:>5,}  of  {:>5,}.'.format(step, len(train_dataloader)))\n",
    "\n",
    "    # push the batch to gpu\n",
    "    batch = [r.to(device) for r in batch]\n",
    " \n",
    "    sent_id, mask, labels = batch\n",
    "\n",
    "    # clear previously calculated gradients \n",
    "    model.zero_grad()        \n",
    "\n",
    "    # get model predictions for the current batch\n",
    "    preds = model(sent_id, mask)\n",
    "\n",
    "    # compute the loss between actual and predicted values\n",
    "    loss = cross_entropy(preds, labels)\n",
    "\n",
    "    # add on to the total loss\n",
    "    total_loss = total_loss + loss.item()\n",
    "\n",
    "    # backward pass to calculate the gradients\n",
    "    loss.backward()\n",
    "\n",
    "    # clip the the gradients to 1.0. It helps in preventing the exploding gradient problem\n",
    "    torch.nn.utils.clip_grad_norm_(model.parameters(), 1.0)\n",
    "\n",
    "    # update parameters\n",
    "    optimizer.step()\n",
    "\n",
    "    # model predictions are stored on GPU. So, push it to CPU\n",
    "    preds=preds.detach().cpu().numpy()\n",
    "\n",
    "    # append the model predictions\n",
    "    total_preds.append(preds)\n",
    "\n",
    "  # compute the training loss of the epoch\n",
    "  avg_loss = total_loss / len(train_dataloader)\n",
    "  \n",
    "  # predictions are in the form of (no. of batches, size of batch, no. of classes).\n",
    "  # reshape the predictions in form of (number of samples, no. of classes)\n",
    "  total_preds  = np.concatenate(total_preds, axis=0)\n",
    "\n",
    "  #returns the loss and predictions\n",
    "  return avg_loss, total_preds"
   ]
  },
  {
   "cell_type": "code",
   "execution_count": 23,
   "metadata": {
    "executionInfo": {
     "elapsed": 505,
     "status": "ok",
     "timestamp": 1627006901695,
     "user": {
      "displayName": "V R Babu",
      "photoUrl": "https://lh3.googleusercontent.com/a-/AOh14GiwpQX5Fne1Y4zJf4mCjuaOTpjFBcp1iNmrgZ4M=s64",
      "userId": "01442414460590452599"
     },
     "user_tz": -330
    },
    "id": "yGXovFDlSxB5"
   },
   "outputs": [],
   "source": [
    "# function for evaluating the model\n",
    "def evaluate():\n",
    "  \n",
    "  print(\"\\nEvaluating...\")\n",
    "  \n",
    "  # deactivate dropout layers\n",
    "  model.eval()\n",
    "\n",
    "  total_loss, total_accuracy = 0, 0\n",
    "  \n",
    "  # empty list to save the model predictions\n",
    "  total_preds = []\n",
    "\n",
    "  # iterate over batches\n",
    "  for step,batch in enumerate(val_dataloader):\n",
    "    \n",
    "    # Progress update every 50 batches.\n",
    "    if step % 50 == 0 and not step == 0:\n",
    "      \n",
    "      # Calculate elapsed time in minutes.\n",
    "      #elapsed = format_time(time.time() - t0)\n",
    "            \n",
    "      # Report progress.\n",
    "      print('  Batch {:>5,}  of  {:>5,}.'.format(step, len(val_dataloader)))\n",
    "\n",
    "    # push the batch to gpu\n",
    "    batch = [t.to(device) for t in batch]\n",
    "\n",
    "    sent_id, mask, labels = batch\n",
    "\n",
    "    # deactivate autograd\n",
    "    with torch.no_grad():\n",
    "      \n",
    "      # model predictions\n",
    "      preds = model(sent_id, mask)\n",
    "\n",
    "      # compute the validation loss between actual and predicted values\n",
    "      loss = cross_entropy(preds,labels)\n",
    "\n",
    "      total_loss = total_loss + loss.item()\n",
    "\n",
    "      preds = preds.detach().cpu().numpy()\n",
    "\n",
    "      total_preds.append(preds)\n",
    "\n",
    "  # compute the validation loss of the epoch\n",
    "  avg_loss = total_loss / len(val_dataloader) \n",
    "\n",
    "  # reshape the predictions in form of (number of samples, no. of classes)\n",
    "  total_preds  = np.concatenate(total_preds, axis=0)\n",
    "\n",
    "  return avg_loss, total_preds"
   ]
  },
  {
   "cell_type": "markdown",
   "metadata": {
    "id": "9KZEgxRRTLXG"
   },
   "source": [
    "# Start Model Training"
   ]
  },
  {
   "cell_type": "code",
   "execution_count": 24,
   "metadata": {
    "colab": {
     "base_uri": "https://localhost:8080/"
    },
    "executionInfo": {
     "elapsed": 367322,
     "status": "ok",
     "timestamp": 1627007302139,
     "user": {
      "displayName": "V R Babu",
      "photoUrl": "https://lh3.googleusercontent.com/a-/AOh14GiwpQX5Fne1Y4zJf4mCjuaOTpjFBcp1iNmrgZ4M=s64",
      "userId": "01442414460590452599"
     },
     "user_tz": -330
    },
    "id": "k1USGTntS3TS",
    "outputId": "f17c4df6-cb6c-4a15-9c59-3b95c4b59610"
   },
   "outputs": [
    {
     "name": "stdout",
     "output_type": "stream",
     "text": [
      "\n",
      " Epoch 1 / 3\n",
      "  Batch    50  of  1,852.\n",
      "  Batch   100  of  1,852.\n",
      "  Batch   150  of  1,852.\n",
      "  Batch   200  of  1,852.\n",
      "  Batch   250  of  1,852.\n",
      "  Batch   300  of  1,852.\n",
      "  Batch   350  of  1,852.\n",
      "  Batch   400  of  1,852.\n",
      "  Batch   450  of  1,852.\n",
      "  Batch   500  of  1,852.\n",
      "  Batch   550  of  1,852.\n",
      "  Batch   600  of  1,852.\n",
      "  Batch   650  of  1,852.\n",
      "  Batch   700  of  1,852.\n",
      "  Batch   750  of  1,852.\n",
      "  Batch   800  of  1,852.\n",
      "  Batch   850  of  1,852.\n",
      "  Batch   900  of  1,852.\n",
      "  Batch   950  of  1,852.\n",
      "  Batch 1,000  of  1,852.\n",
      "  Batch 1,050  of  1,852.\n",
      "  Batch 1,100  of  1,852.\n",
      "  Batch 1,150  of  1,852.\n",
      "  Batch 1,200  of  1,852.\n",
      "  Batch 1,250  of  1,852.\n",
      "  Batch 1,300  of  1,852.\n",
      "  Batch 1,350  of  1,852.\n",
      "  Batch 1,400  of  1,852.\n",
      "  Batch 1,450  of  1,852.\n",
      "  Batch 1,500  of  1,852.\n",
      "  Batch 1,550  of  1,852.\n",
      "  Batch 1,600  of  1,852.\n",
      "  Batch 1,650  of  1,852.\n",
      "  Batch 1,700  of  1,852.\n",
      "  Batch 1,750  of  1,852.\n",
      "  Batch 1,800  of  1,852.\n",
      "  Batch 1,850  of  1,852.\n",
      "\n",
      "Evaluating...\n",
      "  Batch    50  of    397.\n",
      "  Batch   100  of    397.\n",
      "  Batch   150  of    397.\n",
      "  Batch   200  of    397.\n",
      "  Batch   250  of    397.\n",
      "  Batch   300  of    397.\n",
      "  Batch   350  of    397.\n",
      "\n",
      "Training Loss: 0.292\n",
      "Validation Loss: 0.247\n",
      "\n",
      " Epoch 2 / 3\n",
      "  Batch    50  of  1,852.\n",
      "  Batch   100  of  1,852.\n",
      "  Batch   150  of  1,852.\n",
      "  Batch   200  of  1,852.\n",
      "  Batch   250  of  1,852.\n",
      "  Batch   300  of  1,852.\n",
      "  Batch   350  of  1,852.\n",
      "  Batch   400  of  1,852.\n",
      "  Batch   450  of  1,852.\n",
      "  Batch   500  of  1,852.\n",
      "  Batch   550  of  1,852.\n",
      "  Batch   600  of  1,852.\n",
      "  Batch   650  of  1,852.\n",
      "  Batch   700  of  1,852.\n",
      "  Batch   750  of  1,852.\n",
      "  Batch   800  of  1,852.\n",
      "  Batch   850  of  1,852.\n",
      "  Batch   900  of  1,852.\n",
      "  Batch   950  of  1,852.\n",
      "  Batch 1,000  of  1,852.\n",
      "  Batch 1,050  of  1,852.\n",
      "  Batch 1,100  of  1,852.\n",
      "  Batch 1,150  of  1,852.\n",
      "  Batch 1,200  of  1,852.\n",
      "  Batch 1,250  of  1,852.\n",
      "  Batch 1,300  of  1,852.\n",
      "  Batch 1,350  of  1,852.\n",
      "  Batch 1,400  of  1,852.\n",
      "  Batch 1,450  of  1,852.\n",
      "  Batch 1,500  of  1,852.\n",
      "  Batch 1,550  of  1,852.\n",
      "  Batch 1,600  of  1,852.\n",
      "  Batch 1,650  of  1,852.\n",
      "  Batch 1,700  of  1,852.\n",
      "  Batch 1,750  of  1,852.\n",
      "  Batch 1,800  of  1,852.\n",
      "  Batch 1,850  of  1,852.\n",
      "\n",
      "Evaluating...\n",
      "  Batch    50  of    397.\n",
      "  Batch   100  of    397.\n",
      "  Batch   150  of    397.\n",
      "  Batch   200  of    397.\n",
      "  Batch   250  of    397.\n",
      "  Batch   300  of    397.\n",
      "  Batch   350  of    397.\n",
      "\n",
      "Training Loss: 0.248\n",
      "Validation Loss: 0.251\n",
      "\n",
      " Epoch 3 / 3\n",
      "  Batch    50  of  1,852.\n",
      "  Batch   100  of  1,852.\n",
      "  Batch   150  of  1,852.\n",
      "  Batch   200  of  1,852.\n",
      "  Batch   250  of  1,852.\n",
      "  Batch   300  of  1,852.\n",
      "  Batch   350  of  1,852.\n",
      "  Batch   400  of  1,852.\n",
      "  Batch   450  of  1,852.\n",
      "  Batch   500  of  1,852.\n",
      "  Batch   550  of  1,852.\n",
      "  Batch   600  of  1,852.\n",
      "  Batch   650  of  1,852.\n",
      "  Batch   700  of  1,852.\n",
      "  Batch   750  of  1,852.\n",
      "  Batch   800  of  1,852.\n",
      "  Batch   850  of  1,852.\n",
      "  Batch   900  of  1,852.\n",
      "  Batch   950  of  1,852.\n",
      "  Batch 1,000  of  1,852.\n",
      "  Batch 1,050  of  1,852.\n",
      "  Batch 1,100  of  1,852.\n",
      "  Batch 1,150  of  1,852.\n",
      "  Batch 1,200  of  1,852.\n",
      "  Batch 1,250  of  1,852.\n",
      "  Batch 1,300  of  1,852.\n",
      "  Batch 1,350  of  1,852.\n",
      "  Batch 1,400  of  1,852.\n",
      "  Batch 1,450  of  1,852.\n",
      "  Batch 1,500  of  1,852.\n",
      "  Batch 1,550  of  1,852.\n",
      "  Batch 1,600  of  1,852.\n",
      "  Batch 1,650  of  1,852.\n",
      "  Batch 1,700  of  1,852.\n",
      "  Batch 1,750  of  1,852.\n",
      "  Batch 1,800  of  1,852.\n",
      "  Batch 1,850  of  1,852.\n",
      "\n",
      "Evaluating...\n",
      "  Batch    50  of    397.\n",
      "  Batch   100  of    397.\n",
      "  Batch   150  of    397.\n",
      "  Batch   200  of    397.\n",
      "  Batch   250  of    397.\n",
      "  Batch   300  of    397.\n",
      "  Batch   350  of    397.\n",
      "\n",
      "Training Loss: 0.236\n",
      "Validation Loss: 0.207\n"
     ]
    }
   ],
   "source": [
    "# set initial loss to infinite\n",
    "best_valid_loss = float('inf')\n",
    "\n",
    "# empty lists to store training and validation loss of each epoch\n",
    "train_losses=[]\n",
    "valid_losses=[]\n",
    "\n",
    "#for each epoch\n",
    "for epoch in range(epochs):\n",
    "     \n",
    "    print('\\n Epoch {:} / {:}'.format(epoch + 1, epochs))\n",
    "    \n",
    "    #train model\n",
    "    train_loss, _ = train()\n",
    "    \n",
    "    #evaluate model\n",
    "    valid_loss, _ = evaluate()\n",
    "    \n",
    "    #save the best model\n",
    "    if valid_loss < best_valid_loss:\n",
    "        best_valid_loss = valid_loss\n",
    "        torch.save(model.state_dict(), '..\\\\deployment\\\\dl_models\\\\saved_weights2.pt')\n",
    "    \n",
    "    # append training and validation loss\n",
    "    train_losses.append(train_loss)\n",
    "    valid_losses.append(valid_loss)\n",
    "    \n",
    "    print(f'\\nTraining Loss: {train_loss:.3f}')\n",
    "    print(f'Validation Loss: {valid_loss:.3f}')"
   ]
  },
  {
   "cell_type": "markdown",
   "metadata": {
    "id": "_yrhUc9kTI5a"
   },
   "source": [
    "# Load Saved Model"
   ]
  },
  {
   "cell_type": "code",
   "execution_count": 25,
   "metadata": {
    "colab": {
     "base_uri": "https://localhost:8080/"
    },
    "executionInfo": {
     "elapsed": 731,
     "status": "ok",
     "timestamp": 1627007302838,
     "user": {
      "displayName": "V R Babu",
      "photoUrl": "https://lh3.googleusercontent.com/a-/AOh14GiwpQX5Fne1Y4zJf4mCjuaOTpjFBcp1iNmrgZ4M=s64",
      "userId": "01442414460590452599"
     },
     "user_tz": -330
    },
    "id": "OacxUyizS8d1",
    "outputId": "e87c7b99-cf79-4455-d434-fa96c8bbf532"
   },
   "outputs": [
    {
     "data": {
      "text/plain": [
       "<All keys matched successfully>"
      ]
     },
     "execution_count": 25,
     "metadata": {},
     "output_type": "execute_result"
    }
   ],
   "source": [
    "#load weights of best model\n",
    "path = '..\\\\deployment\\\\dl_models\\\\saved_weights1.pt'\n",
    "model.load_state_dict(torch.load(path))"
   ]
  },
  {
   "cell_type": "markdown",
   "metadata": {
    "id": "x4SVftkkTZXA"
   },
   "source": [
    "# Get Predictions for Test Data"
   ]
  },
  {
   "cell_type": "code",
   "execution_count": 26,
   "metadata": {
    "executionInfo": {
     "elapsed": 16,
     "status": "ok",
     "timestamp": 1627007302840,
     "user": {
      "displayName": "V R Babu",
      "photoUrl": "https://lh3.googleusercontent.com/a-/AOh14GiwpQX5Fne1Y4zJf4mCjuaOTpjFBcp1iNmrgZ4M=s64",
      "userId": "01442414460590452599"
     },
     "user_tz": -330
    },
    "id": "pbhk4nJUrfmT"
   },
   "outputs": [],
   "source": [
    "import torch\n",
    "torch.cuda.empty_cache()"
   ]
  },
  {
   "cell_type": "code",
   "execution_count": null,
   "metadata": {
    "executionInfo": {
     "elapsed": 18928,
     "status": "ok",
     "timestamp": 1627007321761,
     "user": {
      "displayName": "V R Babu",
      "photoUrl": "https://lh3.googleusercontent.com/a-/AOh14GiwpQX5Fne1Y4zJf4mCjuaOTpjFBcp1iNmrgZ4M=s64",
      "userId": "01442414460590452599"
     },
     "user_tz": -330
    },
    "id": "NZl0SZmFTRQA"
   },
   "outputs": [],
   "source": [
    "# get predictions for test data CUDA OUT OF MEMORY ERROR\n",
    "with torch.no_grad():\n",
    "  preds = model(test_seq.to(device), test_mask.to(device))\n",
    "  preds = preds.detach().cpu().numpy()"
   ]
  },
  {
   "cell_type": "code",
   "execution_count": null,
   "metadata": {
    "colab": {
     "base_uri": "https://localhost:8080/"
    },
    "executionInfo": {
     "elapsed": 19,
     "status": "ok",
     "timestamp": 1627007321764,
     "user": {
      "displayName": "V R Babu",
      "photoUrl": "https://lh3.googleusercontent.com/a-/AOh14GiwpQX5Fne1Y4zJf4mCjuaOTpjFBcp1iNmrgZ4M=s64",
      "userId": "01442414460590452599"
     },
     "user_tz": -330
    },
    "id": "Ms1ObHZxTYSI",
    "outputId": "bd35fadc-c03d-4e18-b9ed-d4ef1019631c"
   },
   "outputs": [],
   "source": [
    "# model's performance\n",
    "preds = np.argmax(preds, axis = 1)\n",
    "print(classification_report(test_y, preds))"
   ]
  },
  {
   "cell_type": "code",
   "execution_count": 28,
   "metadata": {
    "executionInfo": {
     "elapsed": 423,
     "status": "ok",
     "timestamp": 1627008238259,
     "user": {
      "displayName": "V R Babu",
      "photoUrl": "https://lh3.googleusercontent.com/a-/AOh14GiwpQX5Fne1Y4zJf4mCjuaOTpjFBcp1iNmrgZ4M=s64",
      "userId": "01442414460590452599"
     },
     "user_tz": -330
    },
    "id": "jpX1uTwjUPY6"
   },
   "outputs": [],
   "source": [
    "sample = [\"\"\"Smile an everlasting smile\n",
    "A smile can bring you near to me\n",
    "Don't ever let me find you down\n",
    "'Cause that would bring a tear to me\n",
    "This world has lost its glory\n",
    "Let's start a brand new story now, my love\n",
    "Right now, there'll be no other time\n",
    "And I can show you how, my love\n",
    "Talk in everlasting words\n",
    "And dedicate them all to me\n",
    "And I will give you all my life\n",
    "I'm here if you should call to me\"\"\"]"
   ]
  },
  {
   "cell_type": "code",
   "execution_count": 29,
   "metadata": {
    "colab": {
     "base_uri": "https://localhost:8080/"
    },
    "executionInfo": {
     "elapsed": 6,
     "status": "ok",
     "timestamp": 1627008238772,
     "user": {
      "displayName": "V R Babu",
      "photoUrl": "https://lh3.googleusercontent.com/a-/AOh14GiwpQX5Fne1Y4zJf4mCjuaOTpjFBcp1iNmrgZ4M=s64",
      "userId": "01442414460590452599"
     },
     "user_tz": -330
    },
    "id": "Sd0krntQOMXz",
    "outputId": "bb9fcf06-ce35-4041-bc9c-ec6adca25162"
   },
   "outputs": [],
   "source": [
    "# tokenize and encode sequences in the test set\n",
    "tokens_test_1 = tokenizer.batch_encode_plus(\n",
    "    sample,\n",
    "    max_length = max_seq_len,\n",
    "    pad_to_max_length=True,\n",
    "    truncation=True,\n",
    "    return_token_type_ids=False\n",
    ")"
   ]
  },
  {
   "cell_type": "code",
   "execution_count": 30,
   "metadata": {
    "executionInfo": {
     "elapsed": 3,
     "status": "ok",
     "timestamp": 1627008241207,
     "user": {
      "displayName": "V R Babu",
      "photoUrl": "https://lh3.googleusercontent.com/a-/AOh14GiwpQX5Fne1Y4zJf4mCjuaOTpjFBcp1iNmrgZ4M=s64",
      "userId": "01442414460590452599"
     },
     "user_tz": -330
    },
    "id": "fB6Utui3Orwm"
   },
   "outputs": [],
   "source": [
    "# for test set sample\n",
    "test_seq_1 = torch.tensor(tokens_test_1['input_ids'])\n",
    "test_mask_1 = torch.tensor(tokens_test_1['attention_mask'])"
   ]
  },
  {
   "cell_type": "code",
   "execution_count": 31,
   "metadata": {
    "colab": {
     "base_uri": "https://localhost:8080/"
    },
    "executionInfo": {
     "elapsed": 10,
     "status": "ok",
     "timestamp": 1627008243097,
     "user": {
      "displayName": "V R Babu",
      "photoUrl": "https://lh3.googleusercontent.com/a-/AOh14GiwpQX5Fne1Y4zJf4mCjuaOTpjFBcp1iNmrgZ4M=s64",
      "userId": "01442414460590452599"
     },
     "user_tz": -330
    },
    "id": "j_COFw6KO2Ry",
    "outputId": "8587a82d-9e23-4d2d-c691-632733ef35a1"
   },
   "outputs": [
    {
     "name": "stdout",
     "output_type": "stream",
     "text": [
      "[0]\n"
     ]
    }
   ],
   "source": [
    "prediction = model(test_seq_1.to(device), test_mask_1.to(device))\n",
    "prediction = prediction.detach().cpu().numpy()\n",
    "prediction = np.argmax(prediction, axis = 1)\n",
    "print(prediction)"
   ]
  },
  {
   "cell_type": "code",
   "execution_count": null,
   "metadata": {
    "id": "YHQ4upBYPAvP"
   },
   "outputs": [],
   "source": []
  }
 ],
 "metadata": {
  "accelerator": "GPU",
  "colab": {
   "collapsed_sections": [],
   "name": "Bert Model 3",
   "provenance": [
    {
     "file_id": "1AhshyWEzogCVqSiZJFxrHMQ9lEcBmKgz",
     "timestamp": 1626961977251
    },
    {
     "file_id": "https://github.com/prateekjoshi565/Fine-Tuning-BERT/blob/master/Fine_Tuning_BERT_for_Spam_Classification.ipynb",
     "timestamp": 1626959832308
    }
   ]
  },
  "kernelspec": {
   "display_name": "Python 3",
   "language": "python",
   "name": "python3"
  },
  "language_info": {
   "codemirror_mode": {
    "name": "ipython",
    "version": 3
   },
   "file_extension": ".py",
   "mimetype": "text/x-python",
   "name": "python",
   "nbconvert_exporter": "python",
   "pygments_lexer": "ipython3",
   "version": "3.8.5"
  },
  "widgets": {
   "application/vnd.jupyter.widget-state+json": {
    "02c146950e514af7bd281d56e4bcdb26": {
     "model_module": "@jupyter-widgets/base",
     "model_name": "LayoutModel",
     "state": {
      "_model_module": "@jupyter-widgets/base",
      "_model_module_version": "1.2.0",
      "_model_name": "LayoutModel",
      "_view_count": null,
      "_view_module": "@jupyter-widgets/base",
      "_view_module_version": "1.2.0",
      "_view_name": "LayoutView",
      "align_content": null,
      "align_items": null,
      "align_self": null,
      "border": null,
      "bottom": null,
      "display": null,
      "flex": null,
      "flex_flow": null,
      "grid_area": null,
      "grid_auto_columns": null,
      "grid_auto_flow": null,
      "grid_auto_rows": null,
      "grid_column": null,
      "grid_gap": null,
      "grid_row": null,
      "grid_template_areas": null,
      "grid_template_columns": null,
      "grid_template_rows": null,
      "height": null,
      "justify_content": null,
      "justify_items": null,
      "left": null,
      "margin": null,
      "max_height": null,
      "max_width": null,
      "min_height": null,
      "min_width": null,
      "object_fit": null,
      "object_position": null,
      "order": null,
      "overflow": null,
      "overflow_x": null,
      "overflow_y": null,
      "padding": null,
      "right": null,
      "top": null,
      "visibility": null,
      "width": null
     }
    },
    "050550acd31a4e67a296571b95502ff3": {
     "model_module": "@jupyter-widgets/base",
     "model_name": "LayoutModel",
     "state": {
      "_model_module": "@jupyter-widgets/base",
      "_model_module_version": "1.2.0",
      "_model_name": "LayoutModel",
      "_view_count": null,
      "_view_module": "@jupyter-widgets/base",
      "_view_module_version": "1.2.0",
      "_view_name": "LayoutView",
      "align_content": null,
      "align_items": null,
      "align_self": null,
      "border": null,
      "bottom": null,
      "display": null,
      "flex": null,
      "flex_flow": null,
      "grid_area": null,
      "grid_auto_columns": null,
      "grid_auto_flow": null,
      "grid_auto_rows": null,
      "grid_column": null,
      "grid_gap": null,
      "grid_row": null,
      "grid_template_areas": null,
      "grid_template_columns": null,
      "grid_template_rows": null,
      "height": null,
      "justify_content": null,
      "justify_items": null,
      "left": null,
      "margin": null,
      "max_height": null,
      "max_width": null,
      "min_height": null,
      "min_width": null,
      "object_fit": null,
      "object_position": null,
      "order": null,
      "overflow": null,
      "overflow_x": null,
      "overflow_y": null,
      "padding": null,
      "right": null,
      "top": null,
      "visibility": null,
      "width": null
     }
    },
    "215d3f30cc5d4823a54f42843b545c70": {
     "model_module": "@jupyter-widgets/controls",
     "model_name": "HBoxModel",
     "state": {
      "_dom_classes": [],
      "_model_module": "@jupyter-widgets/controls",
      "_model_module_version": "1.5.0",
      "_model_name": "HBoxModel",
      "_view_count": null,
      "_view_module": "@jupyter-widgets/controls",
      "_view_module_version": "1.5.0",
      "_view_name": "HBoxView",
      "box_style": "",
      "children": [
       "IPY_MODEL_7dce4e0db3a74dba89ecab56ed5a7964",
       "IPY_MODEL_368f2dda1d694dea80e14150139da856"
      ],
      "layout": "IPY_MODEL_639a6b4902974be0ac9377f3a219d20e"
     }
    },
    "28a33d98a7e1455a85521cd8f8ca40a5": {
     "model_module": "@jupyter-widgets/base",
     "model_name": "LayoutModel",
     "state": {
      "_model_module": "@jupyter-widgets/base",
      "_model_module_version": "1.2.0",
      "_model_name": "LayoutModel",
      "_view_count": null,
      "_view_module": "@jupyter-widgets/base",
      "_view_module_version": "1.2.0",
      "_view_name": "LayoutView",
      "align_content": null,
      "align_items": null,
      "align_self": null,
      "border": null,
      "bottom": null,
      "display": null,
      "flex": null,
      "flex_flow": null,
      "grid_area": null,
      "grid_auto_columns": null,
      "grid_auto_flow": null,
      "grid_auto_rows": null,
      "grid_column": null,
      "grid_gap": null,
      "grid_row": null,
      "grid_template_areas": null,
      "grid_template_columns": null,
      "grid_template_rows": null,
      "height": null,
      "justify_content": null,
      "justify_items": null,
      "left": null,
      "margin": null,
      "max_height": null,
      "max_width": null,
      "min_height": null,
      "min_width": null,
      "object_fit": null,
      "object_position": null,
      "order": null,
      "overflow": null,
      "overflow_x": null,
      "overflow_y": null,
      "padding": null,
      "right": null,
      "top": null,
      "visibility": null,
      "width": null
     }
    },
    "2d38e0c2e3f643f1a7b04ad1cd57be4f": {
     "model_module": "@jupyter-widgets/controls",
     "model_name": "HBoxModel",
     "state": {
      "_dom_classes": [],
      "_model_module": "@jupyter-widgets/controls",
      "_model_module_version": "1.5.0",
      "_model_name": "HBoxModel",
      "_view_count": null,
      "_view_module": "@jupyter-widgets/controls",
      "_view_module_version": "1.5.0",
      "_view_name": "HBoxView",
      "box_style": "",
      "children": [
       "IPY_MODEL_b804db7ce25d42998a4086ca65d4000d",
       "IPY_MODEL_b2bb29c878bc44128cee67fa7f040d55"
      ],
      "layout": "IPY_MODEL_28a33d98a7e1455a85521cd8f8ca40a5"
     }
    },
    "2daa511a3f2c4c81bedb2c2177a590fa": {
     "model_module": "@jupyter-widgets/base",
     "model_name": "LayoutModel",
     "state": {
      "_model_module": "@jupyter-widgets/base",
      "_model_module_version": "1.2.0",
      "_model_name": "LayoutModel",
      "_view_count": null,
      "_view_module": "@jupyter-widgets/base",
      "_view_module_version": "1.2.0",
      "_view_name": "LayoutView",
      "align_content": null,
      "align_items": null,
      "align_self": null,
      "border": null,
      "bottom": null,
      "display": null,
      "flex": null,
      "flex_flow": null,
      "grid_area": null,
      "grid_auto_columns": null,
      "grid_auto_flow": null,
      "grid_auto_rows": null,
      "grid_column": null,
      "grid_gap": null,
      "grid_row": null,
      "grid_template_areas": null,
      "grid_template_columns": null,
      "grid_template_rows": null,
      "height": null,
      "justify_content": null,
      "justify_items": null,
      "left": null,
      "margin": null,
      "max_height": null,
      "max_width": null,
      "min_height": null,
      "min_width": null,
      "object_fit": null,
      "object_position": null,
      "order": null,
      "overflow": null,
      "overflow_x": null,
      "overflow_y": null,
      "padding": null,
      "right": null,
      "top": null,
      "visibility": null,
      "width": null
     }
    },
    "3353de90015941d5acd9ba13c2565adb": {
     "model_module": "@jupyter-widgets/controls",
     "model_name": "ProgressStyleModel",
     "state": {
      "_model_module": "@jupyter-widgets/controls",
      "_model_module_version": "1.5.0",
      "_model_name": "ProgressStyleModel",
      "_view_count": null,
      "_view_module": "@jupyter-widgets/base",
      "_view_module_version": "1.2.0",
      "_view_name": "StyleView",
      "bar_color": null,
      "description_width": "initial"
     }
    },
    "360b9da57ebb4d2b905bd5a4892315ff": {
     "model_module": "@jupyter-widgets/controls",
     "model_name": "DescriptionStyleModel",
     "state": {
      "_model_module": "@jupyter-widgets/controls",
      "_model_module_version": "1.5.0",
      "_model_name": "DescriptionStyleModel",
      "_view_count": null,
      "_view_module": "@jupyter-widgets/base",
      "_view_module_version": "1.2.0",
      "_view_name": "StyleView",
      "description_width": ""
     }
    },
    "368f2dda1d694dea80e14150139da856": {
     "model_module": "@jupyter-widgets/controls",
     "model_name": "HTMLModel",
     "state": {
      "_dom_classes": [],
      "_model_module": "@jupyter-widgets/controls",
      "_model_module_version": "1.5.0",
      "_model_name": "HTMLModel",
      "_view_count": null,
      "_view_module": "@jupyter-widgets/controls",
      "_view_module_version": "1.5.0",
      "_view_name": "HTMLView",
      "description": "",
      "description_tooltip": null,
      "layout": "IPY_MODEL_ececab32a068407e8253d775d9856fe5",
      "placeholder": "​",
      "style": "IPY_MODEL_96f19cf022a24c1980d3c2b7af2651d8",
      "value": " 466k/466k [00:00&lt;00:00, 2.17MB/s]"
     }
    },
    "3f5a0cb1f92e49f7b00258e9fecdec71": {
     "model_module": "@jupyter-widgets/controls",
     "model_name": "HTMLModel",
     "state": {
      "_dom_classes": [],
      "_model_module": "@jupyter-widgets/controls",
      "_model_module_version": "1.5.0",
      "_model_name": "HTMLModel",
      "_view_count": null,
      "_view_module": "@jupyter-widgets/controls",
      "_view_module_version": "1.5.0",
      "_view_name": "HTMLView",
      "description": "",
      "description_tooltip": null,
      "layout": "IPY_MODEL_d9b09cac92db42ceb63c5802945cddb4",
      "placeholder": "​",
      "style": "IPY_MODEL_360b9da57ebb4d2b905bd5a4892315ff",
      "value": " 570/570 [00:00&lt;00:00, 3.12kB/s]"
     }
    },
    "402f99081b5f427c8ec69618d5c93675": {
     "model_module": "@jupyter-widgets/controls",
     "model_name": "HTMLModel",
     "state": {
      "_dom_classes": [],
      "_model_module": "@jupyter-widgets/controls",
      "_model_module_version": "1.5.0",
      "_model_name": "HTMLModel",
      "_view_count": null,
      "_view_module": "@jupyter-widgets/controls",
      "_view_module_version": "1.5.0",
      "_view_name": "HTMLView",
      "description": "",
      "description_tooltip": null,
      "layout": "IPY_MODEL_2daa511a3f2c4c81bedb2c2177a590fa",
      "placeholder": "​",
      "style": "IPY_MODEL_98282eab4fe3480cb3af2d3ed7c7d18d",
      "value": " 232k/232k [00:00&lt;00:00, 674kB/s]"
     }
    },
    "40f09a74f7334f669883d8f17428197b": {
     "model_module": "@jupyter-widgets/controls",
     "model_name": "FloatProgressModel",
     "state": {
      "_dom_classes": [],
      "_model_module": "@jupyter-widgets/controls",
      "_model_module_version": "1.5.0",
      "_model_name": "FloatProgressModel",
      "_view_count": null,
      "_view_module": "@jupyter-widgets/controls",
      "_view_module_version": "1.5.0",
      "_view_name": "ProgressView",
      "bar_style": "success",
      "description": "Downloading: 100%",
      "description_tooltip": null,
      "layout": "IPY_MODEL_c02cb5a1042d448189df58a1983c50e9",
      "max": 28,
      "min": 0,
      "orientation": "horizontal",
      "style": "IPY_MODEL_73f69a79ddbc49218701d0c433ad4a58",
      "value": 28
     }
    },
    "5219754a36cd442bb7d4dd95d8ded72e": {
     "model_module": "@jupyter-widgets/controls",
     "model_name": "DescriptionStyleModel",
     "state": {
      "_model_module": "@jupyter-widgets/controls",
      "_model_module_version": "1.5.0",
      "_model_name": "DescriptionStyleModel",
      "_view_count": null,
      "_view_module": "@jupyter-widgets/base",
      "_view_module_version": "1.2.0",
      "_view_name": "StyleView",
      "description_width": ""
     }
    },
    "53164151c8484686b8e0a0140c8afd9b": {
     "model_module": "@jupyter-widgets/controls",
     "model_name": "ProgressStyleModel",
     "state": {
      "_model_module": "@jupyter-widgets/controls",
      "_model_module_version": "1.5.0",
      "_model_name": "ProgressStyleModel",
      "_view_count": null,
      "_view_module": "@jupyter-widgets/base",
      "_view_module_version": "1.2.0",
      "_view_name": "StyleView",
      "bar_color": null,
      "description_width": "initial"
     }
    },
    "639a6b4902974be0ac9377f3a219d20e": {
     "model_module": "@jupyter-widgets/base",
     "model_name": "LayoutModel",
     "state": {
      "_model_module": "@jupyter-widgets/base",
      "_model_module_version": "1.2.0",
      "_model_name": "LayoutModel",
      "_view_count": null,
      "_view_module": "@jupyter-widgets/base",
      "_view_module_version": "1.2.0",
      "_view_name": "LayoutView",
      "align_content": null,
      "align_items": null,
      "align_self": null,
      "border": null,
      "bottom": null,
      "display": null,
      "flex": null,
      "flex_flow": null,
      "grid_area": null,
      "grid_auto_columns": null,
      "grid_auto_flow": null,
      "grid_auto_rows": null,
      "grid_column": null,
      "grid_gap": null,
      "grid_row": null,
      "grid_template_areas": null,
      "grid_template_columns": null,
      "grid_template_rows": null,
      "height": null,
      "justify_content": null,
      "justify_items": null,
      "left": null,
      "margin": null,
      "max_height": null,
      "max_width": null,
      "min_height": null,
      "min_width": null,
      "object_fit": null,
      "object_position": null,
      "order": null,
      "overflow": null,
      "overflow_x": null,
      "overflow_y": null,
      "padding": null,
      "right": null,
      "top": null,
      "visibility": null,
      "width": null
     }
    },
    "653560b599b3449b8148b0edba507c67": {
     "model_module": "@jupyter-widgets/base",
     "model_name": "LayoutModel",
     "state": {
      "_model_module": "@jupyter-widgets/base",
      "_model_module_version": "1.2.0",
      "_model_name": "LayoutModel",
      "_view_count": null,
      "_view_module": "@jupyter-widgets/base",
      "_view_module_version": "1.2.0",
      "_view_name": "LayoutView",
      "align_content": null,
      "align_items": null,
      "align_self": null,
      "border": null,
      "bottom": null,
      "display": null,
      "flex": null,
      "flex_flow": null,
      "grid_area": null,
      "grid_auto_columns": null,
      "grid_auto_flow": null,
      "grid_auto_rows": null,
      "grid_column": null,
      "grid_gap": null,
      "grid_row": null,
      "grid_template_areas": null,
      "grid_template_columns": null,
      "grid_template_rows": null,
      "height": null,
      "justify_content": null,
      "justify_items": null,
      "left": null,
      "margin": null,
      "max_height": null,
      "max_width": null,
      "min_height": null,
      "min_width": null,
      "object_fit": null,
      "object_position": null,
      "order": null,
      "overflow": null,
      "overflow_x": null,
      "overflow_y": null,
      "padding": null,
      "right": null,
      "top": null,
      "visibility": null,
      "width": null
     }
    },
    "73f69a79ddbc49218701d0c433ad4a58": {
     "model_module": "@jupyter-widgets/controls",
     "model_name": "ProgressStyleModel",
     "state": {
      "_model_module": "@jupyter-widgets/controls",
      "_model_module_version": "1.5.0",
      "_model_name": "ProgressStyleModel",
      "_view_count": null,
      "_view_module": "@jupyter-widgets/base",
      "_view_module_version": "1.2.0",
      "_view_name": "StyleView",
      "bar_color": null,
      "description_width": "initial"
     }
    },
    "7dce4e0db3a74dba89ecab56ed5a7964": {
     "model_module": "@jupyter-widgets/controls",
     "model_name": "FloatProgressModel",
     "state": {
      "_dom_classes": [],
      "_model_module": "@jupyter-widgets/controls",
      "_model_module_version": "1.5.0",
      "_model_name": "FloatProgressModel",
      "_view_count": null,
      "_view_module": "@jupyter-widgets/controls",
      "_view_module_version": "1.5.0",
      "_view_name": "ProgressView",
      "bar_style": "success",
      "description": "Downloading: 100%",
      "description_tooltip": null,
      "layout": "IPY_MODEL_8b7a781124f14089970cd5435526e072",
      "max": 466062,
      "min": 0,
      "orientation": "horizontal",
      "style": "IPY_MODEL_b4709f26f060421c954a6d1ebe23209d",
      "value": 466062
     }
    },
    "8b7a781124f14089970cd5435526e072": {
     "model_module": "@jupyter-widgets/base",
     "model_name": "LayoutModel",
     "state": {
      "_model_module": "@jupyter-widgets/base",
      "_model_module_version": "1.2.0",
      "_model_name": "LayoutModel",
      "_view_count": null,
      "_view_module": "@jupyter-widgets/base",
      "_view_module_version": "1.2.0",
      "_view_name": "LayoutView",
      "align_content": null,
      "align_items": null,
      "align_self": null,
      "border": null,
      "bottom": null,
      "display": null,
      "flex": null,
      "flex_flow": null,
      "grid_area": null,
      "grid_auto_columns": null,
      "grid_auto_flow": null,
      "grid_auto_rows": null,
      "grid_column": null,
      "grid_gap": null,
      "grid_row": null,
      "grid_template_areas": null,
      "grid_template_columns": null,
      "grid_template_rows": null,
      "height": null,
      "justify_content": null,
      "justify_items": null,
      "left": null,
      "margin": null,
      "max_height": null,
      "max_width": null,
      "min_height": null,
      "min_width": null,
      "object_fit": null,
      "object_position": null,
      "order": null,
      "overflow": null,
      "overflow_x": null,
      "overflow_y": null,
      "padding": null,
      "right": null,
      "top": null,
      "visibility": null,
      "width": null
     }
    },
    "90af3b41149448d79ab9cd6f8b8410bd": {
     "model_module": "@jupyter-widgets/base",
     "model_name": "LayoutModel",
     "state": {
      "_model_module": "@jupyter-widgets/base",
      "_model_module_version": "1.2.0",
      "_model_name": "LayoutModel",
      "_view_count": null,
      "_view_module": "@jupyter-widgets/base",
      "_view_module_version": "1.2.0",
      "_view_name": "LayoutView",
      "align_content": null,
      "align_items": null,
      "align_self": null,
      "border": null,
      "bottom": null,
      "display": null,
      "flex": null,
      "flex_flow": null,
      "grid_area": null,
      "grid_auto_columns": null,
      "grid_auto_flow": null,
      "grid_auto_rows": null,
      "grid_column": null,
      "grid_gap": null,
      "grid_row": null,
      "grid_template_areas": null,
      "grid_template_columns": null,
      "grid_template_rows": null,
      "height": null,
      "justify_content": null,
      "justify_items": null,
      "left": null,
      "margin": null,
      "max_height": null,
      "max_width": null,
      "min_height": null,
      "min_width": null,
      "object_fit": null,
      "object_position": null,
      "order": null,
      "overflow": null,
      "overflow_x": null,
      "overflow_y": null,
      "padding": null,
      "right": null,
      "top": null,
      "visibility": null,
      "width": null
     }
    },
    "96f19cf022a24c1980d3c2b7af2651d8": {
     "model_module": "@jupyter-widgets/controls",
     "model_name": "DescriptionStyleModel",
     "state": {
      "_model_module": "@jupyter-widgets/controls",
      "_model_module_version": "1.5.0",
      "_model_name": "DescriptionStyleModel",
      "_view_count": null,
      "_view_module": "@jupyter-widgets/base",
      "_view_module_version": "1.2.0",
      "_view_name": "StyleView",
      "description_width": ""
     }
    },
    "97fef5f53cd34b988e2348e5adff2cb7": {
     "model_module": "@jupyter-widgets/base",
     "model_name": "LayoutModel",
     "state": {
      "_model_module": "@jupyter-widgets/base",
      "_model_module_version": "1.2.0",
      "_model_name": "LayoutModel",
      "_view_count": null,
      "_view_module": "@jupyter-widgets/base",
      "_view_module_version": "1.2.0",
      "_view_name": "LayoutView",
      "align_content": null,
      "align_items": null,
      "align_self": null,
      "border": null,
      "bottom": null,
      "display": null,
      "flex": null,
      "flex_flow": null,
      "grid_area": null,
      "grid_auto_columns": null,
      "grid_auto_flow": null,
      "grid_auto_rows": null,
      "grid_column": null,
      "grid_gap": null,
      "grid_row": null,
      "grid_template_areas": null,
      "grid_template_columns": null,
      "grid_template_rows": null,
      "height": null,
      "justify_content": null,
      "justify_items": null,
      "left": null,
      "margin": null,
      "max_height": null,
      "max_width": null,
      "min_height": null,
      "min_width": null,
      "object_fit": null,
      "object_position": null,
      "order": null,
      "overflow": null,
      "overflow_x": null,
      "overflow_y": null,
      "padding": null,
      "right": null,
      "top": null,
      "visibility": null,
      "width": null
     }
    },
    "98282eab4fe3480cb3af2d3ed7c7d18d": {
     "model_module": "@jupyter-widgets/controls",
     "model_name": "DescriptionStyleModel",
     "state": {
      "_model_module": "@jupyter-widgets/controls",
      "_model_module_version": "1.5.0",
      "_model_name": "DescriptionStyleModel",
      "_view_count": null,
      "_view_module": "@jupyter-widgets/base",
      "_view_module_version": "1.2.0",
      "_view_name": "StyleView",
      "description_width": ""
     }
    },
    "99004b4ce70e407c98d1a8565e0a6dd0": {
     "model_module": "@jupyter-widgets/controls",
     "model_name": "HTMLModel",
     "state": {
      "_dom_classes": [],
      "_model_module": "@jupyter-widgets/controls",
      "_model_module_version": "1.5.0",
      "_model_name": "HTMLModel",
      "_view_count": null,
      "_view_module": "@jupyter-widgets/controls",
      "_view_module_version": "1.5.0",
      "_view_name": "HTMLView",
      "description": "",
      "description_tooltip": null,
      "layout": "IPY_MODEL_ab8eab925b9f47be9d8d2a58e51a19c8",
      "placeholder": "​",
      "style": "IPY_MODEL_5219754a36cd442bb7d4dd95d8ded72e",
      "value": " 28.0/28.0 [00:00&lt;00:00, 212B/s]"
     }
    },
    "a7820ec2499145edaa6498bf5850a6f0": {
     "model_module": "@jupyter-widgets/controls",
     "model_name": "ProgressStyleModel",
     "state": {
      "_model_module": "@jupyter-widgets/controls",
      "_model_module_version": "1.5.0",
      "_model_name": "ProgressStyleModel",
      "_view_count": null,
      "_view_module": "@jupyter-widgets/base",
      "_view_module_version": "1.2.0",
      "_view_name": "StyleView",
      "bar_color": null,
      "description_width": "initial"
     }
    },
    "ab8eab925b9f47be9d8d2a58e51a19c8": {
     "model_module": "@jupyter-widgets/base",
     "model_name": "LayoutModel",
     "state": {
      "_model_module": "@jupyter-widgets/base",
      "_model_module_version": "1.2.0",
      "_model_name": "LayoutModel",
      "_view_count": null,
      "_view_module": "@jupyter-widgets/base",
      "_view_module_version": "1.2.0",
      "_view_name": "LayoutView",
      "align_content": null,
      "align_items": null,
      "align_self": null,
      "border": null,
      "bottom": null,
      "display": null,
      "flex": null,
      "flex_flow": null,
      "grid_area": null,
      "grid_auto_columns": null,
      "grid_auto_flow": null,
      "grid_auto_rows": null,
      "grid_column": null,
      "grid_gap": null,
      "grid_row": null,
      "grid_template_areas": null,
      "grid_template_columns": null,
      "grid_template_rows": null,
      "height": null,
      "justify_content": null,
      "justify_items": null,
      "left": null,
      "margin": null,
      "max_height": null,
      "max_width": null,
      "min_height": null,
      "min_width": null,
      "object_fit": null,
      "object_position": null,
      "order": null,
      "overflow": null,
      "overflow_x": null,
      "overflow_y": null,
      "padding": null,
      "right": null,
      "top": null,
      "visibility": null,
      "width": null
     }
    },
    "b0b6451839cd4579902a678f39b60a6b": {
     "model_module": "@jupyter-widgets/base",
     "model_name": "LayoutModel",
     "state": {
      "_model_module": "@jupyter-widgets/base",
      "_model_module_version": "1.2.0",
      "_model_name": "LayoutModel",
      "_view_count": null,
      "_view_module": "@jupyter-widgets/base",
      "_view_module_version": "1.2.0",
      "_view_name": "LayoutView",
      "align_content": null,
      "align_items": null,
      "align_self": null,
      "border": null,
      "bottom": null,
      "display": null,
      "flex": null,
      "flex_flow": null,
      "grid_area": null,
      "grid_auto_columns": null,
      "grid_auto_flow": null,
      "grid_auto_rows": null,
      "grid_column": null,
      "grid_gap": null,
      "grid_row": null,
      "grid_template_areas": null,
      "grid_template_columns": null,
      "grid_template_rows": null,
      "height": null,
      "justify_content": null,
      "justify_items": null,
      "left": null,
      "margin": null,
      "max_height": null,
      "max_width": null,
      "min_height": null,
      "min_width": null,
      "object_fit": null,
      "object_position": null,
      "order": null,
      "overflow": null,
      "overflow_x": null,
      "overflow_y": null,
      "padding": null,
      "right": null,
      "top": null,
      "visibility": null,
      "width": null
     }
    },
    "b2bb29c878bc44128cee67fa7f040d55": {
     "model_module": "@jupyter-widgets/controls",
     "model_name": "HTMLModel",
     "state": {
      "_dom_classes": [],
      "_model_module": "@jupyter-widgets/controls",
      "_model_module_version": "1.5.0",
      "_model_name": "HTMLModel",
      "_view_count": null,
      "_view_module": "@jupyter-widgets/controls",
      "_view_module_version": "1.5.0",
      "_view_name": "HTMLView",
      "description": "",
      "description_tooltip": null,
      "layout": "IPY_MODEL_02c146950e514af7bd281d56e4bcdb26",
      "placeholder": "​",
      "style": "IPY_MODEL_ce682913300943e4b9bc34f464edfb7a",
      "value": " 440M/440M [00:10&lt;00:00, 41.2MB/s]"
     }
    },
    "b4709f26f060421c954a6d1ebe23209d": {
     "model_module": "@jupyter-widgets/controls",
     "model_name": "ProgressStyleModel",
     "state": {
      "_model_module": "@jupyter-widgets/controls",
      "_model_module_version": "1.5.0",
      "_model_name": "ProgressStyleModel",
      "_view_count": null,
      "_view_module": "@jupyter-widgets/base",
      "_view_module_version": "1.2.0",
      "_view_name": "StyleView",
      "bar_color": null,
      "description_width": "initial"
     }
    },
    "b5d807f0e9194abdb1b5ffbb9fd2f2ee": {
     "model_module": "@jupyter-widgets/controls",
     "model_name": "HBoxModel",
     "state": {
      "_dom_classes": [],
      "_model_module": "@jupyter-widgets/controls",
      "_model_module_version": "1.5.0",
      "_model_name": "HBoxModel",
      "_view_count": null,
      "_view_module": "@jupyter-widgets/controls",
      "_view_module_version": "1.5.0",
      "_view_name": "HBoxView",
      "box_style": "",
      "children": [
       "IPY_MODEL_ef9adf7db23f4b29974a7ced875e4c7f",
       "IPY_MODEL_402f99081b5f427c8ec69618d5c93675"
      ],
      "layout": "IPY_MODEL_653560b599b3449b8148b0edba507c67"
     }
    },
    "b804db7ce25d42998a4086ca65d4000d": {
     "model_module": "@jupyter-widgets/controls",
     "model_name": "FloatProgressModel",
     "state": {
      "_dom_classes": [],
      "_model_module": "@jupyter-widgets/controls",
      "_model_module_version": "1.5.0",
      "_model_name": "FloatProgressModel",
      "_view_count": null,
      "_view_module": "@jupyter-widgets/controls",
      "_view_module_version": "1.5.0",
      "_view_name": "ProgressView",
      "bar_style": "success",
      "description": "Downloading: 100%",
      "description_tooltip": null,
      "layout": "IPY_MODEL_050550acd31a4e67a296571b95502ff3",
      "max": 440473133,
      "min": 0,
      "orientation": "horizontal",
      "style": "IPY_MODEL_3353de90015941d5acd9ba13c2565adb",
      "value": 440473133
     }
    },
    "bf80de127801412982ca9e3e00568037": {
     "model_module": "@jupyter-widgets/base",
     "model_name": "LayoutModel",
     "state": {
      "_model_module": "@jupyter-widgets/base",
      "_model_module_version": "1.2.0",
      "_model_name": "LayoutModel",
      "_view_count": null,
      "_view_module": "@jupyter-widgets/base",
      "_view_module_version": "1.2.0",
      "_view_name": "LayoutView",
      "align_content": null,
      "align_items": null,
      "align_self": null,
      "border": null,
      "bottom": null,
      "display": null,
      "flex": null,
      "flex_flow": null,
      "grid_area": null,
      "grid_auto_columns": null,
      "grid_auto_flow": null,
      "grid_auto_rows": null,
      "grid_column": null,
      "grid_gap": null,
      "grid_row": null,
      "grid_template_areas": null,
      "grid_template_columns": null,
      "grid_template_rows": null,
      "height": null,
      "justify_content": null,
      "justify_items": null,
      "left": null,
      "margin": null,
      "max_height": null,
      "max_width": null,
      "min_height": null,
      "min_width": null,
      "object_fit": null,
      "object_position": null,
      "order": null,
      "overflow": null,
      "overflow_x": null,
      "overflow_y": null,
      "padding": null,
      "right": null,
      "top": null,
      "visibility": null,
      "width": null
     }
    },
    "c02cb5a1042d448189df58a1983c50e9": {
     "model_module": "@jupyter-widgets/base",
     "model_name": "LayoutModel",
     "state": {
      "_model_module": "@jupyter-widgets/base",
      "_model_module_version": "1.2.0",
      "_model_name": "LayoutModel",
      "_view_count": null,
      "_view_module": "@jupyter-widgets/base",
      "_view_module_version": "1.2.0",
      "_view_name": "LayoutView",
      "align_content": null,
      "align_items": null,
      "align_self": null,
      "border": null,
      "bottom": null,
      "display": null,
      "flex": null,
      "flex_flow": null,
      "grid_area": null,
      "grid_auto_columns": null,
      "grid_auto_flow": null,
      "grid_auto_rows": null,
      "grid_column": null,
      "grid_gap": null,
      "grid_row": null,
      "grid_template_areas": null,
      "grid_template_columns": null,
      "grid_template_rows": null,
      "height": null,
      "justify_content": null,
      "justify_items": null,
      "left": null,
      "margin": null,
      "max_height": null,
      "max_width": null,
      "min_height": null,
      "min_width": null,
      "object_fit": null,
      "object_position": null,
      "order": null,
      "overflow": null,
      "overflow_x": null,
      "overflow_y": null,
      "padding": null,
      "right": null,
      "top": null,
      "visibility": null,
      "width": null
     }
    },
    "c1e8fc34e99740fba779f263e2db1d57": {
     "model_module": "@jupyter-widgets/controls",
     "model_name": "HBoxModel",
     "state": {
      "_dom_classes": [],
      "_model_module": "@jupyter-widgets/controls",
      "_model_module_version": "1.5.0",
      "_model_name": "HBoxModel",
      "_view_count": null,
      "_view_module": "@jupyter-widgets/controls",
      "_view_module_version": "1.5.0",
      "_view_name": "HBoxView",
      "box_style": "",
      "children": [
       "IPY_MODEL_40f09a74f7334f669883d8f17428197b",
       "IPY_MODEL_99004b4ce70e407c98d1a8565e0a6dd0"
      ],
      "layout": "IPY_MODEL_97fef5f53cd34b988e2348e5adff2cb7"
     }
    },
    "ce682913300943e4b9bc34f464edfb7a": {
     "model_module": "@jupyter-widgets/controls",
     "model_name": "DescriptionStyleModel",
     "state": {
      "_model_module": "@jupyter-widgets/controls",
      "_model_module_version": "1.5.0",
      "_model_name": "DescriptionStyleModel",
      "_view_count": null,
      "_view_module": "@jupyter-widgets/base",
      "_view_module_version": "1.2.0",
      "_view_name": "StyleView",
      "description_width": ""
     }
    },
    "d9b09cac92db42ceb63c5802945cddb4": {
     "model_module": "@jupyter-widgets/base",
     "model_name": "LayoutModel",
     "state": {
      "_model_module": "@jupyter-widgets/base",
      "_model_module_version": "1.2.0",
      "_model_name": "LayoutModel",
      "_view_count": null,
      "_view_module": "@jupyter-widgets/base",
      "_view_module_version": "1.2.0",
      "_view_name": "LayoutView",
      "align_content": null,
      "align_items": null,
      "align_self": null,
      "border": null,
      "bottom": null,
      "display": null,
      "flex": null,
      "flex_flow": null,
      "grid_area": null,
      "grid_auto_columns": null,
      "grid_auto_flow": null,
      "grid_auto_rows": null,
      "grid_column": null,
      "grid_gap": null,
      "grid_row": null,
      "grid_template_areas": null,
      "grid_template_columns": null,
      "grid_template_rows": null,
      "height": null,
      "justify_content": null,
      "justify_items": null,
      "left": null,
      "margin": null,
      "max_height": null,
      "max_width": null,
      "min_height": null,
      "min_width": null,
      "object_fit": null,
      "object_position": null,
      "order": null,
      "overflow": null,
      "overflow_x": null,
      "overflow_y": null,
      "padding": null,
      "right": null,
      "top": null,
      "visibility": null,
      "width": null
     }
    },
    "e0edb28538e04020879a3c7a89d441a1": {
     "model_module": "@jupyter-widgets/controls",
     "model_name": "HBoxModel",
     "state": {
      "_dom_classes": [],
      "_model_module": "@jupyter-widgets/controls",
      "_model_module_version": "1.5.0",
      "_model_name": "HBoxModel",
      "_view_count": null,
      "_view_module": "@jupyter-widgets/controls",
      "_view_module_version": "1.5.0",
      "_view_name": "HBoxView",
      "box_style": "",
      "children": [
       "IPY_MODEL_e1c5f4a08bca4f6291cd5bf34e1fdf56",
       "IPY_MODEL_3f5a0cb1f92e49f7b00258e9fecdec71"
      ],
      "layout": "IPY_MODEL_90af3b41149448d79ab9cd6f8b8410bd"
     }
    },
    "e1c5f4a08bca4f6291cd5bf34e1fdf56": {
     "model_module": "@jupyter-widgets/controls",
     "model_name": "FloatProgressModel",
     "state": {
      "_dom_classes": [],
      "_model_module": "@jupyter-widgets/controls",
      "_model_module_version": "1.5.0",
      "_model_name": "FloatProgressModel",
      "_view_count": null,
      "_view_module": "@jupyter-widgets/controls",
      "_view_module_version": "1.5.0",
      "_view_name": "ProgressView",
      "bar_style": "success",
      "description": "Downloading: 100%",
      "description_tooltip": null,
      "layout": "IPY_MODEL_b0b6451839cd4579902a678f39b60a6b",
      "max": 570,
      "min": 0,
      "orientation": "horizontal",
      "style": "IPY_MODEL_a7820ec2499145edaa6498bf5850a6f0",
      "value": 570
     }
    },
    "ececab32a068407e8253d775d9856fe5": {
     "model_module": "@jupyter-widgets/base",
     "model_name": "LayoutModel",
     "state": {
      "_model_module": "@jupyter-widgets/base",
      "_model_module_version": "1.2.0",
      "_model_name": "LayoutModel",
      "_view_count": null,
      "_view_module": "@jupyter-widgets/base",
      "_view_module_version": "1.2.0",
      "_view_name": "LayoutView",
      "align_content": null,
      "align_items": null,
      "align_self": null,
      "border": null,
      "bottom": null,
      "display": null,
      "flex": null,
      "flex_flow": null,
      "grid_area": null,
      "grid_auto_columns": null,
      "grid_auto_flow": null,
      "grid_auto_rows": null,
      "grid_column": null,
      "grid_gap": null,
      "grid_row": null,
      "grid_template_areas": null,
      "grid_template_columns": null,
      "grid_template_rows": null,
      "height": null,
      "justify_content": null,
      "justify_items": null,
      "left": null,
      "margin": null,
      "max_height": null,
      "max_width": null,
      "min_height": null,
      "min_width": null,
      "object_fit": null,
      "object_position": null,
      "order": null,
      "overflow": null,
      "overflow_x": null,
      "overflow_y": null,
      "padding": null,
      "right": null,
      "top": null,
      "visibility": null,
      "width": null
     }
    },
    "ef9adf7db23f4b29974a7ced875e4c7f": {
     "model_module": "@jupyter-widgets/controls",
     "model_name": "FloatProgressModel",
     "state": {
      "_dom_classes": [],
      "_model_module": "@jupyter-widgets/controls",
      "_model_module_version": "1.5.0",
      "_model_name": "FloatProgressModel",
      "_view_count": null,
      "_view_module": "@jupyter-widgets/controls",
      "_view_module_version": "1.5.0",
      "_view_name": "ProgressView",
      "bar_style": "success",
      "description": "Downloading: 100%",
      "description_tooltip": null,
      "layout": "IPY_MODEL_bf80de127801412982ca9e3e00568037",
      "max": 231508,
      "min": 0,
      "orientation": "horizontal",
      "style": "IPY_MODEL_53164151c8484686b8e0a0140c8afd9b",
      "value": 231508
     }
    }
   }
  }
 },
 "nbformat": 4,
 "nbformat_minor": 1
}
